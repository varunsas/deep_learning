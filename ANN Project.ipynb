{
 "cells": [
  {
   "cell_type": "code",
   "execution_count": 29,
   "metadata": {},
   "outputs": [],
   "source": [
    "import pandas as pd\n",
    "import numpy as np\n",
    "import matplotlib.pyplot as plt"
   ]
  },
  {
   "cell_type": "code",
   "execution_count": 30,
   "metadata": {},
   "outputs": [],
   "source": [
    "df= pd.read_csv(r'C:\\Users\\HP\\Churn Modeling.csv')"
   ]
  },
  {
   "cell_type": "code",
   "execution_count": 31,
   "metadata": {},
   "outputs": [
    {
     "data": {
      "text/html": [
       "<div>\n",
       "<style scoped>\n",
       "    .dataframe tbody tr th:only-of-type {\n",
       "        vertical-align: middle;\n",
       "    }\n",
       "\n",
       "    .dataframe tbody tr th {\n",
       "        vertical-align: top;\n",
       "    }\n",
       "\n",
       "    .dataframe thead th {\n",
       "        text-align: right;\n",
       "    }\n",
       "</style>\n",
       "<table border=\"1\" class=\"dataframe\">\n",
       "  <thead>\n",
       "    <tr style=\"text-align: right;\">\n",
       "      <th></th>\n",
       "      <th>RowNumber</th>\n",
       "      <th>CustomerId</th>\n",
       "      <th>Surname</th>\n",
       "      <th>CreditScore</th>\n",
       "      <th>Geography</th>\n",
       "      <th>Gender</th>\n",
       "      <th>Age</th>\n",
       "      <th>Tenure</th>\n",
       "      <th>Balance</th>\n",
       "      <th>NumOfProducts</th>\n",
       "      <th>HasCrCard</th>\n",
       "      <th>IsActiveMember</th>\n",
       "      <th>EstimatedSalary</th>\n",
       "      <th>Exited</th>\n",
       "    </tr>\n",
       "  </thead>\n",
       "  <tbody>\n",
       "    <tr>\n",
       "      <th>0</th>\n",
       "      <td>1</td>\n",
       "      <td>15634602</td>\n",
       "      <td>Hargrave</td>\n",
       "      <td>619</td>\n",
       "      <td>France</td>\n",
       "      <td>Female</td>\n",
       "      <td>42</td>\n",
       "      <td>2</td>\n",
       "      <td>0.00</td>\n",
       "      <td>1</td>\n",
       "      <td>1</td>\n",
       "      <td>1</td>\n",
       "      <td>101348.88</td>\n",
       "      <td>1</td>\n",
       "    </tr>\n",
       "    <tr>\n",
       "      <th>1</th>\n",
       "      <td>2</td>\n",
       "      <td>15647311</td>\n",
       "      <td>Hill</td>\n",
       "      <td>608</td>\n",
       "      <td>Spain</td>\n",
       "      <td>Female</td>\n",
       "      <td>41</td>\n",
       "      <td>1</td>\n",
       "      <td>83807.86</td>\n",
       "      <td>1</td>\n",
       "      <td>0</td>\n",
       "      <td>1</td>\n",
       "      <td>112542.58</td>\n",
       "      <td>0</td>\n",
       "    </tr>\n",
       "    <tr>\n",
       "      <th>2</th>\n",
       "      <td>3</td>\n",
       "      <td>15619304</td>\n",
       "      <td>Onio</td>\n",
       "      <td>502</td>\n",
       "      <td>France</td>\n",
       "      <td>Female</td>\n",
       "      <td>42</td>\n",
       "      <td>8</td>\n",
       "      <td>159660.80</td>\n",
       "      <td>3</td>\n",
       "      <td>1</td>\n",
       "      <td>0</td>\n",
       "      <td>113931.57</td>\n",
       "      <td>1</td>\n",
       "    </tr>\n",
       "    <tr>\n",
       "      <th>3</th>\n",
       "      <td>4</td>\n",
       "      <td>15701354</td>\n",
       "      <td>Boni</td>\n",
       "      <td>699</td>\n",
       "      <td>France</td>\n",
       "      <td>Female</td>\n",
       "      <td>39</td>\n",
       "      <td>1</td>\n",
       "      <td>0.00</td>\n",
       "      <td>2</td>\n",
       "      <td>0</td>\n",
       "      <td>0</td>\n",
       "      <td>93826.63</td>\n",
       "      <td>0</td>\n",
       "    </tr>\n",
       "    <tr>\n",
       "      <th>4</th>\n",
       "      <td>5</td>\n",
       "      <td>15737888</td>\n",
       "      <td>Mitchell</td>\n",
       "      <td>850</td>\n",
       "      <td>Spain</td>\n",
       "      <td>Female</td>\n",
       "      <td>43</td>\n",
       "      <td>2</td>\n",
       "      <td>125510.82</td>\n",
       "      <td>1</td>\n",
       "      <td>1</td>\n",
       "      <td>1</td>\n",
       "      <td>79084.10</td>\n",
       "      <td>0</td>\n",
       "    </tr>\n",
       "  </tbody>\n",
       "</table>\n",
       "</div>"
      ],
      "text/plain": [
       "   RowNumber  CustomerId   Surname  CreditScore Geography  Gender  Age  \\\n",
       "0          1    15634602  Hargrave          619    France  Female   42   \n",
       "1          2    15647311      Hill          608     Spain  Female   41   \n",
       "2          3    15619304      Onio          502    France  Female   42   \n",
       "3          4    15701354      Boni          699    France  Female   39   \n",
       "4          5    15737888  Mitchell          850     Spain  Female   43   \n",
       "\n",
       "   Tenure    Balance  NumOfProducts  HasCrCard  IsActiveMember  \\\n",
       "0       2       0.00              1          1               1   \n",
       "1       1   83807.86              1          0               1   \n",
       "2       8  159660.80              3          1               0   \n",
       "3       1       0.00              2          0               0   \n",
       "4       2  125510.82              1          1               1   \n",
       "\n",
       "   EstimatedSalary  Exited  \n",
       "0        101348.88       1  \n",
       "1        112542.58       0  \n",
       "2        113931.57       1  \n",
       "3         93826.63       0  \n",
       "4         79084.10       0  "
      ]
     },
     "execution_count": 31,
     "metadata": {},
     "output_type": "execute_result"
    }
   ],
   "source": [
    "df.head()"
   ]
  },
  {
   "cell_type": "code",
   "execution_count": 32,
   "metadata": {},
   "outputs": [
    {
     "name": "stdout",
     "output_type": "stream",
     "text": [
      "<class 'pandas.core.frame.DataFrame'>\n",
      "RangeIndex: 10000 entries, 0 to 9999\n",
      "Data columns (total 14 columns):\n",
      "RowNumber          10000 non-null int64\n",
      "CustomerId         10000 non-null int64\n",
      "Surname            10000 non-null object\n",
      "CreditScore        10000 non-null int64\n",
      "Geography          10000 non-null object\n",
      "Gender             10000 non-null object\n",
      "Age                10000 non-null int64\n",
      "Tenure             10000 non-null int64\n",
      "Balance            10000 non-null float64\n",
      "NumOfProducts      10000 non-null int64\n",
      "HasCrCard          10000 non-null int64\n",
      "IsActiveMember     10000 non-null int64\n",
      "EstimatedSalary    10000 non-null float64\n",
      "Exited             10000 non-null int64\n",
      "dtypes: float64(2), int64(9), object(3)\n",
      "memory usage: 1.1+ MB\n"
     ]
    }
   ],
   "source": [
    "df.info()"
   ]
  },
  {
   "cell_type": "code",
   "execution_count": 33,
   "metadata": {},
   "outputs": [
    {
     "data": {
      "text/plain": [
       "Index(['RowNumber', 'CustomerId', 'Surname', 'CreditScore', 'Geography',\n",
       "       'Gender', 'Age', 'Tenure', 'Balance', 'NumOfProducts', 'HasCrCard',\n",
       "       'IsActiveMember', 'EstimatedSalary', 'Exited'],\n",
       "      dtype='object')"
      ]
     },
     "execution_count": 33,
     "metadata": {},
     "output_type": "execute_result"
    }
   ],
   "source": [
    "df.columns"
   ]
  },
  {
   "cell_type": "code",
   "execution_count": 34,
   "metadata": {},
   "outputs": [],
   "source": [
    "X= df.iloc[:,3:13]\n",
    "y= df.iloc[:,-1]"
   ]
  },
  {
   "cell_type": "code",
   "execution_count": 35,
   "metadata": {},
   "outputs": [
    {
     "data": {
      "text/html": [
       "<div>\n",
       "<style scoped>\n",
       "    .dataframe tbody tr th:only-of-type {\n",
       "        vertical-align: middle;\n",
       "    }\n",
       "\n",
       "    .dataframe tbody tr th {\n",
       "        vertical-align: top;\n",
       "    }\n",
       "\n",
       "    .dataframe thead th {\n",
       "        text-align: right;\n",
       "    }\n",
       "</style>\n",
       "<table border=\"1\" class=\"dataframe\">\n",
       "  <thead>\n",
       "    <tr style=\"text-align: right;\">\n",
       "      <th></th>\n",
       "      <th>CreditScore</th>\n",
       "      <th>Geography</th>\n",
       "      <th>Gender</th>\n",
       "      <th>Age</th>\n",
       "      <th>Tenure</th>\n",
       "      <th>Balance</th>\n",
       "      <th>NumOfProducts</th>\n",
       "      <th>HasCrCard</th>\n",
       "      <th>IsActiveMember</th>\n",
       "      <th>EstimatedSalary</th>\n",
       "    </tr>\n",
       "  </thead>\n",
       "  <tbody>\n",
       "    <tr>\n",
       "      <th>0</th>\n",
       "      <td>619</td>\n",
       "      <td>France</td>\n",
       "      <td>Female</td>\n",
       "      <td>42</td>\n",
       "      <td>2</td>\n",
       "      <td>0.00</td>\n",
       "      <td>1</td>\n",
       "      <td>1</td>\n",
       "      <td>1</td>\n",
       "      <td>101348.88</td>\n",
       "    </tr>\n",
       "    <tr>\n",
       "      <th>1</th>\n",
       "      <td>608</td>\n",
       "      <td>Spain</td>\n",
       "      <td>Female</td>\n",
       "      <td>41</td>\n",
       "      <td>1</td>\n",
       "      <td>83807.86</td>\n",
       "      <td>1</td>\n",
       "      <td>0</td>\n",
       "      <td>1</td>\n",
       "      <td>112542.58</td>\n",
       "    </tr>\n",
       "    <tr>\n",
       "      <th>2</th>\n",
       "      <td>502</td>\n",
       "      <td>France</td>\n",
       "      <td>Female</td>\n",
       "      <td>42</td>\n",
       "      <td>8</td>\n",
       "      <td>159660.80</td>\n",
       "      <td>3</td>\n",
       "      <td>1</td>\n",
       "      <td>0</td>\n",
       "      <td>113931.57</td>\n",
       "    </tr>\n",
       "    <tr>\n",
       "      <th>3</th>\n",
       "      <td>699</td>\n",
       "      <td>France</td>\n",
       "      <td>Female</td>\n",
       "      <td>39</td>\n",
       "      <td>1</td>\n",
       "      <td>0.00</td>\n",
       "      <td>2</td>\n",
       "      <td>0</td>\n",
       "      <td>0</td>\n",
       "      <td>93826.63</td>\n",
       "    </tr>\n",
       "    <tr>\n",
       "      <th>4</th>\n",
       "      <td>850</td>\n",
       "      <td>Spain</td>\n",
       "      <td>Female</td>\n",
       "      <td>43</td>\n",
       "      <td>2</td>\n",
       "      <td>125510.82</td>\n",
       "      <td>1</td>\n",
       "      <td>1</td>\n",
       "      <td>1</td>\n",
       "      <td>79084.10</td>\n",
       "    </tr>\n",
       "  </tbody>\n",
       "</table>\n",
       "</div>"
      ],
      "text/plain": [
       "   CreditScore Geography  Gender  Age  Tenure    Balance  NumOfProducts  \\\n",
       "0          619    France  Female   42       2       0.00              1   \n",
       "1          608     Spain  Female   41       1   83807.86              1   \n",
       "2          502    France  Female   42       8  159660.80              3   \n",
       "3          699    France  Female   39       1       0.00              2   \n",
       "4          850     Spain  Female   43       2  125510.82              1   \n",
       "\n",
       "   HasCrCard  IsActiveMember  EstimatedSalary  \n",
       "0          1               1        101348.88  \n",
       "1          0               1        112542.58  \n",
       "2          1               0        113931.57  \n",
       "3          0               0         93826.63  \n",
       "4          1               1         79084.10  "
      ]
     },
     "execution_count": 35,
     "metadata": {},
     "output_type": "execute_result"
    }
   ],
   "source": [
    "X.head()"
   ]
  },
  {
   "cell_type": "markdown",
   "metadata": {},
   "source": [
    "#### Convert Categorical feature into dummy variables"
   ]
  },
  {
   "cell_type": "code",
   "execution_count": 36,
   "metadata": {},
   "outputs": [],
   "source": [
    "states= pd.get_dummies(X['Geography'],drop_first=True)\n",
    "gender= pd.get_dummies(X['Gender'],drop_first=True)"
   ]
  },
  {
   "cell_type": "markdown",
   "metadata": {},
   "source": [
    "#### Drop the coumns as it no longer required"
   ]
  },
  {
   "cell_type": "code",
   "execution_count": 37,
   "metadata": {},
   "outputs": [],
   "source": [
    "X=X.drop(['Geography','Gender'],axis=1)"
   ]
  },
  {
   "cell_type": "markdown",
   "metadata": {},
   "source": [
    "#### Concatenate categorical feature into dummy variables"
   ]
  },
  {
   "cell_type": "code",
   "execution_count": 38,
   "metadata": {},
   "outputs": [],
   "source": [
    "X= pd.concat([X,states,gender],axis=1)"
   ]
  },
  {
   "cell_type": "code",
   "execution_count": 39,
   "metadata": {},
   "outputs": [
    {
     "data": {
      "text/html": [
       "<div>\n",
       "<style scoped>\n",
       "    .dataframe tbody tr th:only-of-type {\n",
       "        vertical-align: middle;\n",
       "    }\n",
       "\n",
       "    .dataframe tbody tr th {\n",
       "        vertical-align: top;\n",
       "    }\n",
       "\n",
       "    .dataframe thead th {\n",
       "        text-align: right;\n",
       "    }\n",
       "</style>\n",
       "<table border=\"1\" class=\"dataframe\">\n",
       "  <thead>\n",
       "    <tr style=\"text-align: right;\">\n",
       "      <th></th>\n",
       "      <th>CreditScore</th>\n",
       "      <th>Age</th>\n",
       "      <th>Tenure</th>\n",
       "      <th>Balance</th>\n",
       "      <th>NumOfProducts</th>\n",
       "      <th>HasCrCard</th>\n",
       "      <th>IsActiveMember</th>\n",
       "      <th>EstimatedSalary</th>\n",
       "      <th>Germany</th>\n",
       "      <th>Spain</th>\n",
       "      <th>Male</th>\n",
       "    </tr>\n",
       "  </thead>\n",
       "  <tbody>\n",
       "    <tr>\n",
       "      <th>0</th>\n",
       "      <td>619</td>\n",
       "      <td>42</td>\n",
       "      <td>2</td>\n",
       "      <td>0.00</td>\n",
       "      <td>1</td>\n",
       "      <td>1</td>\n",
       "      <td>1</td>\n",
       "      <td>101348.88</td>\n",
       "      <td>0</td>\n",
       "      <td>0</td>\n",
       "      <td>0</td>\n",
       "    </tr>\n",
       "    <tr>\n",
       "      <th>1</th>\n",
       "      <td>608</td>\n",
       "      <td>41</td>\n",
       "      <td>1</td>\n",
       "      <td>83807.86</td>\n",
       "      <td>1</td>\n",
       "      <td>0</td>\n",
       "      <td>1</td>\n",
       "      <td>112542.58</td>\n",
       "      <td>0</td>\n",
       "      <td>1</td>\n",
       "      <td>0</td>\n",
       "    </tr>\n",
       "    <tr>\n",
       "      <th>2</th>\n",
       "      <td>502</td>\n",
       "      <td>42</td>\n",
       "      <td>8</td>\n",
       "      <td>159660.80</td>\n",
       "      <td>3</td>\n",
       "      <td>1</td>\n",
       "      <td>0</td>\n",
       "      <td>113931.57</td>\n",
       "      <td>0</td>\n",
       "      <td>0</td>\n",
       "      <td>0</td>\n",
       "    </tr>\n",
       "    <tr>\n",
       "      <th>3</th>\n",
       "      <td>699</td>\n",
       "      <td>39</td>\n",
       "      <td>1</td>\n",
       "      <td>0.00</td>\n",
       "      <td>2</td>\n",
       "      <td>0</td>\n",
       "      <td>0</td>\n",
       "      <td>93826.63</td>\n",
       "      <td>0</td>\n",
       "      <td>0</td>\n",
       "      <td>0</td>\n",
       "    </tr>\n",
       "    <tr>\n",
       "      <th>4</th>\n",
       "      <td>850</td>\n",
       "      <td>43</td>\n",
       "      <td>2</td>\n",
       "      <td>125510.82</td>\n",
       "      <td>1</td>\n",
       "      <td>1</td>\n",
       "      <td>1</td>\n",
       "      <td>79084.10</td>\n",
       "      <td>0</td>\n",
       "      <td>1</td>\n",
       "      <td>0</td>\n",
       "    </tr>\n",
       "  </tbody>\n",
       "</table>\n",
       "</div>"
      ],
      "text/plain": [
       "   CreditScore  Age  Tenure    Balance  NumOfProducts  HasCrCard  \\\n",
       "0          619   42       2       0.00              1          1   \n",
       "1          608   41       1   83807.86              1          0   \n",
       "2          502   42       8  159660.80              3          1   \n",
       "3          699   39       1       0.00              2          0   \n",
       "4          850   43       2  125510.82              1          1   \n",
       "\n",
       "   IsActiveMember  EstimatedSalary  Germany  Spain  Male  \n",
       "0               1        101348.88        0      0     0  \n",
       "1               1        112542.58        0      1     0  \n",
       "2               0        113931.57        0      0     0  \n",
       "3               0         93826.63        0      0     0  \n",
       "4               1         79084.10        0      1     0  "
      ]
     },
     "execution_count": 39,
     "metadata": {},
     "output_type": "execute_result"
    }
   ],
   "source": [
    "X.head()"
   ]
  },
  {
   "cell_type": "markdown",
   "metadata": {},
   "source": [
    "#### Splitting the dataset into Training and Test set"
   ]
  },
  {
   "cell_type": "code",
   "execution_count": 40,
   "metadata": {},
   "outputs": [],
   "source": [
    "from sklearn.model_selection import train_test_split\n",
    "X_train,X_test,y_train,y_test= train_test_split(X,y,test_size=.2,random_state=0)"
   ]
  },
  {
   "cell_type": "markdown",
   "metadata": {},
   "source": [
    "#### Feature Scaling"
   ]
  },
  {
   "cell_type": "code",
   "execution_count": 41,
   "metadata": {},
   "outputs": [],
   "source": [
    "from sklearn.preprocessing import StandardScaler\n",
    "sc= StandardScaler()\n",
    "X_train=sc.fit_transform(X_train)\n",
    "X_test= sc.transform(X_test)"
   ]
  },
  {
   "cell_type": "markdown",
   "metadata": {},
   "source": [
    "### Part-2 ANN"
   ]
  },
  {
   "cell_type": "markdown",
   "metadata": {},
   "source": [
    "##### Importing the Keras Libraries and packages"
   ]
  },
  {
   "cell_type": "code",
   "execution_count": 42,
   "metadata": {},
   "outputs": [],
   "source": [
    "import keras\n",
    "from keras.models import Sequential  ###(ANN,CNN,RNN do have to import this library)\n",
    "from keras.layers import Dense       ###(For hidden layer creation)\n",
    "#from keras.layers import LeakyReLU,PReLU,ELU\n",
    "from keras.layers import Dropout"
   ]
  },
  {
   "cell_type": "code",
   "execution_count": 43,
   "metadata": {},
   "outputs": [],
   "source": [
    "# Initialising the ANN\n",
    "classifier= Sequential()"
   ]
  },
  {
   "cell_type": "code",
   "execution_count": 44,
   "metadata": {},
   "outputs": [],
   "source": [
    "# Adding the Input layer and the first hidden layer\n",
    "# \"init\" decides how your weights needs to be initialized\n",
    "# With ReLU activation 'he_uniform' and 'he_normal' works well\n",
    "# ReLU prevents Vanishing Gradient Descent problem as compare to Sigmoid\n",
    "\n",
    "classifier.add(Dense(units=6,kernel_initializer='he_uniform',activation='relu',input_dim=11))"
   ]
  },
  {
   "cell_type": "code",
   "execution_count": 45,
   "metadata": {},
   "outputs": [],
   "source": [
    "# Adding the second hidden layer\n",
    "\n",
    "classifier.add(Dense(units=6,kernel_initializer='he_uniform',activation='relu'))"
   ]
  },
  {
   "cell_type": "code",
   "execution_count": 46,
   "metadata": {},
   "outputs": [],
   "source": [
    "# Adding the output layer\n",
    "\n",
    "classifier.add(Dense(units=1,kernel_initializer='glorot_uniform',activation='sigmoid'))"
   ]
  },
  {
   "cell_type": "code",
   "execution_count": 48,
   "metadata": {},
   "outputs": [
    {
     "name": "stdout",
     "output_type": "stream",
     "text": [
      "Model: \"sequential_2\"\n",
      "_________________________________________________________________\n",
      "Layer (type)                 Output Shape              Param #   \n",
      "=================================================================\n",
      "dense_10 (Dense)             (None, 6)                 72        \n",
      "_________________________________________________________________\n",
      "dense_11 (Dense)             (None, 6)                 42        \n",
      "_________________________________________________________________\n",
      "dense_12 (Dense)             (None, 1)                 7         \n",
      "=================================================================\n",
      "Total params: 121\n",
      "Trainable params: 121\n",
      "Non-trainable params: 0\n",
      "_________________________________________________________________\n"
     ]
    }
   ],
   "source": [
    "    classifier.summary()\n",
    "\n",
    "    # Total params basically indicates that how many weights and bias and also can calculate it\n",
    "    # and can see how many weight and neurons are there\n"
   ]
  },
  {
   "cell_type": "code",
   "execution_count": 49,
   "metadata": {},
   "outputs": [],
   "source": [
    "#### Compiling the ANN\n",
    "\n",
    "# Optimizer= GD optimization technique\n",
    "# Whenever outbut 0 or 1 we must use binary_crossentropy\n",
    "# If output is multicategory then we should use categorical_crossentropy\n",
    "\n",
    "classifier.compile(optimizer='adam',loss= 'binary_crossentropy',metrics=['accuracy'])"
   ]
  },
  {
   "cell_type": "code",
   "execution_count": 50,
   "metadata": {},
   "outputs": [
    {
     "name": "stderr",
     "output_type": "stream",
     "text": [
      "E:\\Anaconda\\lib\\site-packages\\ipykernel_launcher.py:3: UserWarning: The `nb_epoch` argument in `fit` has been renamed `epochs`.\n",
      "  This is separate from the ipykernel package so we can avoid doing imports until\n"
     ]
    },
    {
     "name": "stdout",
     "output_type": "stream",
     "text": [
      "WARNING:tensorflow:From E:\\Anaconda\\lib\\site-packages\\tensorflow\\python\\ops\\math_ops.py:3066: to_int32 (from tensorflow.python.ops.math_ops) is deprecated and will be removed in a future version.\n",
      "Instructions for updating:\n",
      "Use tf.cast instead.\n",
      "Train on 5359 samples, validate on 2641 samples\n",
      "Epoch 1/100\n",
      "5359/5359 [==============================] - 3s 629us/step - loss: 0.5272 - accuracy: 0.7850 - val_loss: 0.4795 - val_accuracy: 0.7959\n",
      "Epoch 2/100\n",
      "5359/5359 [==============================] - 2s 307us/step - loss: 0.4538 - accuracy: 0.8011 - val_loss: 0.4477 - val_accuracy: 0.8031\n",
      "Epoch 3/100\n",
      "5359/5359 [==============================] - 2s 306us/step - loss: 0.4287 - accuracy: 0.8125 - val_loss: 0.4321 - val_accuracy: 0.8080\n",
      "Epoch 4/100\n",
      "5359/5359 [==============================] - 2s 294us/step - loss: 0.4127 - accuracy: 0.8207 - val_loss: 0.4219 - val_accuracy: 0.8111\n",
      "Epoch 5/100\n",
      "5359/5359 [==============================] - 2s 286us/step - loss: 0.4009 - accuracy: 0.8268 - val_loss: 0.4111 - val_accuracy: 0.8201\n",
      "Epoch 6/100\n",
      "5359/5359 [==============================] - 2s 313us/step - loss: 0.3880 - accuracy: 0.8378 - val_loss: 0.3969 - val_accuracy: 0.8349\n",
      "Epoch 7/100\n",
      "5359/5359 [==============================] - 2s 316us/step - loss: 0.3740 - accuracy: 0.8459 - val_loss: 0.3858 - val_accuracy: 0.8406\n",
      "Epoch 8/100\n",
      "5359/5359 [==============================] - 2s 317us/step - loss: 0.3628 - accuracy: 0.8494 - val_loss: 0.3780 - val_accuracy: 0.8436\n",
      "Epoch 9/100\n",
      "5359/5359 [==============================] - 2s 292us/step - loss: 0.3561 - accuracy: 0.8531 - val_loss: 0.3736 - val_accuracy: 0.8474\n",
      "Epoch 10/100\n",
      "5359/5359 [==============================] - 2s 300us/step - loss: 0.3524 - accuracy: 0.8539 - val_loss: 0.3713 - val_accuracy: 0.8474\n",
      "Epoch 11/100\n",
      "5359/5359 [==============================] - 2s 297us/step - loss: 0.3496 - accuracy: 0.8550 - val_loss: 0.3690 - val_accuracy: 0.8504\n",
      "Epoch 12/100\n",
      "5359/5359 [==============================] - 2s 326us/step - loss: 0.3471 - accuracy: 0.8563 - val_loss: 0.3686 - val_accuracy: 0.8485\n",
      "Epoch 13/100\n",
      "5359/5359 [==============================] - 2s 369us/step - loss: 0.3464 - accuracy: 0.8563 - val_loss: 0.3666 - val_accuracy: 0.8493\n",
      "Epoch 14/100\n",
      "5359/5359 [==============================] - 2s 352us/step - loss: 0.3448 - accuracy: 0.8548 - val_loss: 0.3664 - val_accuracy: 0.8508\n",
      "Epoch 15/100\n",
      "5359/5359 [==============================] - 2s 426us/step - loss: 0.3436 - accuracy: 0.8565 - val_loss: 0.3655 - val_accuracy: 0.8485\n",
      "Epoch 16/100\n",
      "5359/5359 [==============================] - 2s 373us/step - loss: 0.3429 - accuracy: 0.8567 - val_loss: 0.3656 - val_accuracy: 0.8497\n",
      "Epoch 17/100\n",
      "5359/5359 [==============================] - 2s 394us/step - loss: 0.3421 - accuracy: 0.8582 - val_loss: 0.3643 - val_accuracy: 0.8501\n",
      "Epoch 18/100\n",
      "5359/5359 [==============================] - 2s 418us/step - loss: 0.3411 - accuracy: 0.8589 - val_loss: 0.3624 - val_accuracy: 0.8508\n",
      "Epoch 19/100\n",
      "5359/5359 [==============================] - 2s 397us/step - loss: 0.3398 - accuracy: 0.8595 - val_loss: 0.3617 - val_accuracy: 0.8542\n",
      "Epoch 20/100\n",
      "5359/5359 [==============================] - 2s 427us/step - loss: 0.3395 - accuracy: 0.8584 - val_loss: 0.3616 - val_accuracy: 0.8535\n",
      "Epoch 21/100\n",
      "5359/5359 [==============================] - 2s 383us/step - loss: 0.3388 - accuracy: 0.8610 - val_loss: 0.3611 - val_accuracy: 0.8535\n",
      "Epoch 22/100\n",
      "5359/5359 [==============================] - 2s 398us/step - loss: 0.3377 - accuracy: 0.8614 - val_loss: 0.3603 - val_accuracy: 0.8565\n",
      "Epoch 23/100\n",
      "5359/5359 [==============================] - 2s 455us/step - loss: 0.3378 - accuracy: 0.8628 - val_loss: 0.3598 - val_accuracy: 0.8565\n",
      "Epoch 24/100\n",
      "5359/5359 [==============================] - 2s 453us/step - loss: 0.3369 - accuracy: 0.8615 - val_loss: 0.3591 - val_accuracy: 0.8557\n",
      "Epoch 25/100\n",
      "5359/5359 [==============================] - 2s 402us/step - loss: 0.3364 - accuracy: 0.8599 - val_loss: 0.3593 - val_accuracy: 0.8565\n",
      "Epoch 26/100\n",
      "5359/5359 [==============================] - 2s 399us/step - loss: 0.3358 - accuracy: 0.8617 - val_loss: 0.3591 - val_accuracy: 0.8542\n",
      "Epoch 27/100\n",
      "5359/5359 [==============================] - 2s 417us/step - loss: 0.3353 - accuracy: 0.8621 - val_loss: 0.3579 - val_accuracy: 0.8554\n",
      "Epoch 28/100\n",
      "5359/5359 [==============================] - 2s 424us/step - loss: 0.3347 - accuracy: 0.8606 - val_loss: 0.3580 - val_accuracy: 0.8557\n",
      "Epoch 29/100\n",
      "5359/5359 [==============================] - 2s 399us/step - loss: 0.3347 - accuracy: 0.8617 - val_loss: 0.3569 - val_accuracy: 0.8546\n",
      "Epoch 30/100\n",
      "5359/5359 [==============================] - 2s 419us/step - loss: 0.3338 - accuracy: 0.8608 - val_loss: 0.3591 - val_accuracy: 0.8561\n",
      "Epoch 31/100\n",
      "5359/5359 [==============================] - 2s 361us/step - loss: 0.3339 - accuracy: 0.8614 - val_loss: 0.3569 - val_accuracy: 0.8569\n",
      "Epoch 32/100\n",
      "5359/5359 [==============================] - 2s 350us/step - loss: 0.3328 - accuracy: 0.8638 - val_loss: 0.3586 - val_accuracy: 0.8561\n",
      "Epoch 33/100\n",
      "5359/5359 [==============================] - 2s 322us/step - loss: 0.3329 - accuracy: 0.8608 - val_loss: 0.3566 - val_accuracy: 0.8576\n",
      "Epoch 34/100\n",
      "5359/5359 [==============================] - 2s 372us/step - loss: 0.3324 - accuracy: 0.8643 - val_loss: 0.3578 - val_accuracy: 0.8569\n",
      "Epoch 35/100\n",
      "5359/5359 [==============================] - 2s 371us/step - loss: 0.3319 - accuracy: 0.8634 - val_loss: 0.3566 - val_accuracy: 0.8573\n",
      "Epoch 36/100\n",
      "5359/5359 [==============================] - 2s 373us/step - loss: 0.3314 - accuracy: 0.8634 - val_loss: 0.3560 - val_accuracy: 0.8576\n",
      "Epoch 37/100\n",
      "5359/5359 [==============================] - 2s 407us/step - loss: 0.3308 - accuracy: 0.8632 - val_loss: 0.3577 - val_accuracy: 0.8565\n",
      "Epoch 38/100\n",
      "5359/5359 [==============================] - 2s 399us/step - loss: 0.3305 - accuracy: 0.8638 - val_loss: 0.3570 - val_accuracy: 0.8569\n",
      "Epoch 39/100\n",
      "5359/5359 [==============================] - 1s 278us/step - loss: 0.3306 - accuracy: 0.8653 - val_loss: 0.3557 - val_accuracy: 0.8591\n",
      "Epoch 40/100\n",
      "5359/5359 [==============================] - 1s 280us/step - loss: 0.3301 - accuracy: 0.8642 - val_loss: 0.3562 - val_accuracy: 0.8538\n",
      "Epoch 41/100\n",
      "5359/5359 [==============================] - 2s 306us/step - loss: 0.3299 - accuracy: 0.8636 - val_loss: 0.3564 - val_accuracy: 0.8565\n",
      "Epoch 42/100\n",
      "5359/5359 [==============================] - 2s 326us/step - loss: 0.3291 - accuracy: 0.8647 - val_loss: 0.3560 - val_accuracy: 0.8580\n",
      "Epoch 43/100\n",
      "5359/5359 [==============================] - 2s 341us/step - loss: 0.3297 - accuracy: 0.8653 - val_loss: 0.3561 - val_accuracy: 0.8557\n",
      "Epoch 44/100\n",
      "5359/5359 [==============================] - 2s 329us/step - loss: 0.3291 - accuracy: 0.8621 - val_loss: 0.3562 - val_accuracy: 0.8546\n",
      "Epoch 45/100\n",
      "5359/5359 [==============================] - 2s 331us/step - loss: 0.3289 - accuracy: 0.8645 - val_loss: 0.3550 - val_accuracy: 0.8538\n",
      "Epoch 46/100\n",
      "5359/5359 [==============================] - 2s 375us/step - loss: 0.3283 - accuracy: 0.8664 - val_loss: 0.3571 - val_accuracy: 0.8569\n",
      "Epoch 47/100\n",
      "5359/5359 [==============================] - 2s 438us/step - loss: 0.3280 - accuracy: 0.8634 - val_loss: 0.3553 - val_accuracy: 0.8546\n",
      "Epoch 48/100\n",
      "5359/5359 [==============================] - 2s 348us/step - loss: 0.3284 - accuracy: 0.8664 - val_loss: 0.3555 - val_accuracy: 0.8569\n",
      "Epoch 49/100\n",
      "5359/5359 [==============================] - 2s 392us/step - loss: 0.3281 - accuracy: 0.8649 - val_loss: 0.3545 - val_accuracy: 0.8565\n",
      "Epoch 50/100\n",
      "5359/5359 [==============================] - 2s 414us/step - loss: 0.3278 - accuracy: 0.8660 - val_loss: 0.3563 - val_accuracy: 0.8557\n",
      "Epoch 51/100\n",
      "5359/5359 [==============================] - 2s 387us/step - loss: 0.3280 - accuracy: 0.8647 - val_loss: 0.3548 - val_accuracy: 0.8557\n",
      "Epoch 52/100\n",
      "5359/5359 [==============================] - 2s 394us/step - loss: 0.3274 - accuracy: 0.8634 - val_loss: 0.3549 - val_accuracy: 0.8557\n",
      "Epoch 53/100\n",
      "5359/5359 [==============================] - 2s 386us/step - loss: 0.3274 - accuracy: 0.8655 - val_loss: 0.3543 - val_accuracy: 0.8561\n",
      "Epoch 54/100\n"
     ]
    },
    {
     "name": "stdout",
     "output_type": "stream",
     "text": [
      "5359/5359 [==============================] - 2s 334us/step - loss: 0.3272 - accuracy: 0.8651 - val_loss: 0.3553 - val_accuracy: 0.8584\n",
      "Epoch 55/100\n",
      "5359/5359 [==============================] - 2s 382us/step - loss: 0.3274 - accuracy: 0.8642 - val_loss: 0.3550 - val_accuracy: 0.8550\n",
      "Epoch 56/100\n",
      "5359/5359 [==============================] - 2s 410us/step - loss: 0.3268 - accuracy: 0.8656 - val_loss: 0.3563 - val_accuracy: 0.8588\n",
      "Epoch 57/100\n",
      "5359/5359 [==============================] - 2s 379us/step - loss: 0.3271 - accuracy: 0.8658 - val_loss: 0.3545 - val_accuracy: 0.8561\n",
      "Epoch 58/100\n",
      "5359/5359 [==============================] - 2s 383us/step - loss: 0.3268 - accuracy: 0.8673 - val_loss: 0.3552 - val_accuracy: 0.8573\n",
      "Epoch 59/100\n",
      "5359/5359 [==============================] - 2s 350us/step - loss: 0.3270 - accuracy: 0.8636 - val_loss: 0.3545 - val_accuracy: 0.8565\n",
      "Epoch 60/100\n",
      "5359/5359 [==============================] - 1s 280us/step - loss: 0.3268 - accuracy: 0.8651 - val_loss: 0.3535 - val_accuracy: 0.8573\n",
      "Epoch 61/100\n",
      "5359/5359 [==============================] - 1s 262us/step - loss: 0.3266 - accuracy: 0.8636 - val_loss: 0.3540 - val_accuracy: 0.8565\n",
      "Epoch 62/100\n",
      "5359/5359 [==============================] - 1s 262us/step - loss: 0.3264 - accuracy: 0.8645 - val_loss: 0.3540 - val_accuracy: 0.8557\n",
      "Epoch 63/100\n",
      "5359/5359 [==============================] - 1s 263us/step - loss: 0.3266 - accuracy: 0.8671 - val_loss: 0.3549 - val_accuracy: 0.8535\n",
      "Epoch 64/100\n",
      "5359/5359 [==============================] - 1s 264us/step - loss: 0.3266 - accuracy: 0.8651 - val_loss: 0.3548 - val_accuracy: 0.8531\n",
      "Epoch 65/100\n",
      "5359/5359 [==============================] - 2s 293us/step - loss: 0.3264 - accuracy: 0.8636 - val_loss: 0.3546 - val_accuracy: 0.8565\n",
      "Epoch 66/100\n",
      "5359/5359 [==============================] - 1s 276us/step - loss: 0.3262 - accuracy: 0.8671 - val_loss: 0.3553 - val_accuracy: 0.8531\n",
      "Epoch 67/100\n",
      "5359/5359 [==============================] - 2s 358us/step - loss: 0.3263 - accuracy: 0.8668 - val_loss: 0.3548 - val_accuracy: 0.8546\n",
      "Epoch 68/100\n",
      "5359/5359 [==============================] - 2s 464us/step - loss: 0.3256 - accuracy: 0.8670 - val_loss: 0.3550 - val_accuracy: 0.8546\n",
      "Epoch 69/100\n",
      "5359/5359 [==============================] - 2s 338us/step - loss: 0.3261 - accuracy: 0.8649 - val_loss: 0.3547 - val_accuracy: 0.8546\n",
      "Epoch 70/100\n",
      "5359/5359 [==============================] - 2s 302us/step - loss: 0.3261 - accuracy: 0.8651 - val_loss: 0.3539 - val_accuracy: 0.8557\n",
      "Epoch 71/100\n",
      "5359/5359 [==============================] - 1s 276us/step - loss: 0.3261 - accuracy: 0.8655 - val_loss: 0.3534 - val_accuracy: 0.8554\n",
      "Epoch 72/100\n",
      "5359/5359 [==============================] - 1s 260us/step - loss: 0.3255 - accuracy: 0.8645 - val_loss: 0.3536 - val_accuracy: 0.8565\n",
      "Epoch 73/100\n",
      "5359/5359 [==============================] - 1s 251us/step - loss: 0.3257 - accuracy: 0.8638 - val_loss: 0.3544 - val_accuracy: 0.8554\n",
      "Epoch 74/100\n",
      "5359/5359 [==============================] - 2s 291us/step - loss: 0.3251 - accuracy: 0.8671 - val_loss: 0.3550 - val_accuracy: 0.8546\n",
      "Epoch 75/100\n",
      "5359/5359 [==============================] - 1s 249us/step - loss: 0.3249 - accuracy: 0.8660 - val_loss: 0.3570 - val_accuracy: 0.8569\n",
      "Epoch 76/100\n",
      "5359/5359 [==============================] - 1s 243us/step - loss: 0.3253 - accuracy: 0.8645 - val_loss: 0.3542 - val_accuracy: 0.8554\n",
      "Epoch 77/100\n",
      "5359/5359 [==============================] - 1s 238us/step - loss: 0.3253 - accuracy: 0.8677 - val_loss: 0.3540 - val_accuracy: 0.8557\n",
      "Epoch 78/100\n",
      "5359/5359 [==============================] - 1s 249us/step - loss: 0.3256 - accuracy: 0.8666 - val_loss: 0.3537 - val_accuracy: 0.8565\n",
      "Epoch 79/100\n",
      "5359/5359 [==============================] - 1s 247us/step - loss: 0.3248 - accuracy: 0.8668 - val_loss: 0.3555 - val_accuracy: 0.8550\n",
      "Epoch 80/100\n",
      "5359/5359 [==============================] - 1s 247us/step - loss: 0.3253 - accuracy: 0.8640 - val_loss: 0.3552 - val_accuracy: 0.8542\n",
      "Epoch 81/100\n",
      "5359/5359 [==============================] - 1s 244us/step - loss: 0.3253 - accuracy: 0.8656 - val_loss: 0.3533 - val_accuracy: 0.8550\n",
      "Epoch 82/100\n",
      "5359/5359 [==============================] - 1s 247us/step - loss: 0.3246 - accuracy: 0.8662 - val_loss: 0.3546 - val_accuracy: 0.8561\n",
      "Epoch 83/100\n",
      "5359/5359 [==============================] - 1s 245us/step - loss: 0.3256 - accuracy: 0.8664 - val_loss: 0.3539 - val_accuracy: 0.8546\n",
      "Epoch 84/100\n",
      "5359/5359 [==============================] - 1s 265us/step - loss: 0.3248 - accuracy: 0.8683 - val_loss: 0.3553 - val_accuracy: 0.8576\n",
      "Epoch 85/100\n",
      "5359/5359 [==============================] - 1s 236us/step - loss: 0.3246 - accuracy: 0.8658 - val_loss: 0.3539 - val_accuracy: 0.8542\n",
      "Epoch 86/100\n",
      "5359/5359 [==============================] - 1s 238us/step - loss: 0.3244 - accuracy: 0.8675 - val_loss: 0.3578 - val_accuracy: 0.8576\n",
      "Epoch 87/100\n",
      "5359/5359 [==============================] - 1s 245us/step - loss: 0.3251 - accuracy: 0.8666 - val_loss: 0.3528 - val_accuracy: 0.8538\n",
      "Epoch 88/100\n",
      "5359/5359 [==============================] - 1s 248us/step - loss: 0.3247 - accuracy: 0.8649 - val_loss: 0.3535 - val_accuracy: 0.8554\n",
      "Epoch 89/100\n",
      "5359/5359 [==============================] - 1s 250us/step - loss: 0.3243 - accuracy: 0.8658 - val_loss: 0.3540 - val_accuracy: 0.8550\n",
      "Epoch 90/100\n",
      "5359/5359 [==============================] - 1s 244us/step - loss: 0.3244 - accuracy: 0.8658 - val_loss: 0.3543 - val_accuracy: 0.8527\n",
      "Epoch 91/100\n",
      "5359/5359 [==============================] - 1s 242us/step - loss: 0.3246 - accuracy: 0.8673 - val_loss: 0.3539 - val_accuracy: 0.8565\n",
      "Epoch 92/100\n",
      "5359/5359 [==============================] - 1s 249us/step - loss: 0.3247 - accuracy: 0.8658 - val_loss: 0.3545 - val_accuracy: 0.8554\n",
      "Epoch 93/100\n",
      "5359/5359 [==============================] - 1s 237us/step - loss: 0.3245 - accuracy: 0.8640 - val_loss: 0.3536 - val_accuracy: 0.8538\n",
      "Epoch 94/100\n",
      "5359/5359 [==============================] - 1s 235us/step - loss: 0.3246 - accuracy: 0.8681 - val_loss: 0.3534 - val_accuracy: 0.8557\n",
      "Epoch 95/100\n",
      "5359/5359 [==============================] - 1s 233us/step - loss: 0.3245 - accuracy: 0.8670 - val_loss: 0.3544 - val_accuracy: 0.8569\n",
      "Epoch 96/100\n",
      "5359/5359 [==============================] - 1s 264us/step - loss: 0.3245 - accuracy: 0.8675 - val_loss: 0.3535 - val_accuracy: 0.8546\n",
      "Epoch 97/100\n",
      "5359/5359 [==============================] - 1s 262us/step - loss: 0.3246 - accuracy: 0.8658 - val_loss: 0.3535 - val_accuracy: 0.8538\n",
      "Epoch 98/100\n",
      "5359/5359 [==============================] - 2s 361us/step - loss: 0.3239 - accuracy: 0.8670 - val_loss: 0.3554 - val_accuracy: 0.8561\n",
      "Epoch 99/100\n",
      "5359/5359 [==============================] - 2s 322us/step - loss: 0.3244 - accuracy: 0.8670 - val_loss: 0.3554 - val_accuracy: 0.8557\n",
      "Epoch 100/100\n",
      "5359/5359 [==============================] - 2s 288us/step - loss: 0.3242 - accuracy: 0.8642 - val_loss: 0.3545 - val_accuracy: 0.8561\n"
     ]
    }
   ],
   "source": [
    "### Fitting the ANN to the Training set\n",
    "\n",
    "#  Through validation_split we can test our model separatly for test dataset\n",
    "# Batch_size make computational power less, more amount of records we dont have to load at just one time.RAM will be pretty\n",
    "#   much free\n",
    "# nb_epochs for iterations\n",
    "\n",
    "model_history= classifier.fit(X_train,y_train,validation_split=0.33,batch_size=10,nb_epoch=100)"
   ]
  },
  {
   "cell_type": "code",
   "execution_count": 51,
   "metadata": {},
   "outputs": [],
   "source": [
    "# Predicting the Test set results\n",
    "y_pred= classifier.predict(X_test)\n",
    "y_pred=(y_pred >0.5)"
   ]
  },
  {
   "cell_type": "code",
   "execution_count": 53,
   "metadata": {},
   "outputs": [
    {
     "data": {
      "text/plain": [
       "array([[1507,   88],\n",
       "       [ 207,  198]], dtype=int64)"
      ]
     },
     "execution_count": 53,
     "metadata": {},
     "output_type": "execute_result"
    }
   ],
   "source": [
    "# Making the confusion matrix\n",
    "from sklearn.metrics import confusion_matrix\n",
    "cm= confusion_matrix(y_test,y_pred)\n",
    "cm"
   ]
  },
  {
   "cell_type": "code",
   "execution_count": 55,
   "metadata": {},
   "outputs": [
    {
     "data": {
      "text/plain": [
       "0.8525"
      ]
     },
     "execution_count": 55,
     "metadata": {},
     "output_type": "execute_result"
    }
   ],
   "source": [
    "# Calculate accuracy score\n",
    "\n",
    "from sklearn.metrics import accuracy_score\n",
    "score= accuracy_score(y_pred,y_test)\n",
    "score"
   ]
  },
  {
   "cell_type": "code",
   "execution_count": null,
   "metadata": {},
   "outputs": [],
   "source": []
  }
 ],
 "metadata": {
  "kernelspec": {
   "display_name": "Python 3",
   "language": "python",
   "name": "python3"
  },
  "language_info": {
   "codemirror_mode": {
    "name": "ipython",
    "version": 3
   },
   "file_extension": ".py",
   "mimetype": "text/x-python",
   "name": "python",
   "nbconvert_exporter": "python",
   "pygments_lexer": "ipython3",
   "version": "3.7.3"
  }
 },
 "nbformat": 4,
 "nbformat_minor": 2
}
